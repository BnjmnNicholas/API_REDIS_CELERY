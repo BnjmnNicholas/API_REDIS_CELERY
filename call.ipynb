{
 "cells": [
  {
   "cell_type": "code",
   "execution_count": 4,
   "id": "d44bae31",
   "metadata": {},
   "outputs": [
    {
     "name": "stdout",
     "output_type": "stream",
     "text": [
      "Status code: 202\n",
      "Respuesta: {'status': 'OK', 'detail': '2 facturas recibidas y encoladas para procesamiento.'}\n",
      "--------------------------------------------------\n"
     ]
    }
   ],
   "source": [
    "import requests\n",
    "import json\n",
    "\n",
    "# URL del endpoint\n",
    "url = \"http://localhost:8000/facturas/\"\n",
    "\n",
    "# Headers (incluyendo la clave de idempotencia)\n",
    "headers = {\n",
    "    \"Content-Type\": \"application/json\",\n",
    "    \"Idempotency-Key\": \"mi-primera-transaccion-unica-2543\"\n",
    "}\n",
    "\n",
    "# Payload (lista de facturas)\n",
    "data = [\n",
    "    {\n",
    "        \"numero_factura\": \"F-001\",\n",
    "        \"rut_cliente\": \"11111111-1\",\n",
    "        \"monto\": \"1243\",\n",
    "        \"fecha_emision\": \"2025-08-22\"\n",
    "    },\n",
    "    {\n",
    "        \"numero_factura\": \"F-002\",\n",
    "        \"rut_cliente\": \"22222222-2\",\n",
    "        \"monto\": 99.99,\n",
    "        \"fecha_emision\": \"2025-08-22\"\n",
    "    }\n",
    "]\n",
    "\n",
    "def llamar_api():\n",
    "    response = requests.post(url, headers=headers, data=json.dumps(data))\n",
    "    print(\"Status code:\", response.status_code)\n",
    "    try:\n",
    "        print(\"Respuesta:\", response.json())\n",
    "    except Exception:\n",
    "        print(\"Respuesta:\", response.text)\n",
    "    print(\"-\" * 50)\n",
    "\n",
    "\n",
    "llamar_api()\n",
    "\n"
   ]
  }
 ],
 "metadata": {
  "kernelspec": {
   "display_name": "api_celery",
   "language": "python",
   "name": "python3"
  },
  "language_info": {
   "codemirror_mode": {
    "name": "ipython",
    "version": 3
   },
   "file_extension": ".py",
   "mimetype": "text/x-python",
   "name": "python",
   "nbconvert_exporter": "python",
   "pygments_lexer": "ipython3",
   "version": "3.12.11"
  }
 },
 "nbformat": 4,
 "nbformat_minor": 5
}
